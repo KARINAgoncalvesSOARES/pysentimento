{
 "cells": [
  {
   "cell_type": "markdown",
   "metadata": {},
   "source": [
    "<h1 align='center'>pyentimento: Toolkit para multitarefas para análise de sentimentos e SocialNLP<h1/>"
   ]
  },
  {
   "cell_type": "markdown",
   "metadata": {},
   "source": [
    "Data Scientist Jr.: Karina Gonçalves Soares"
   ]
  },
  {
   "cell_type": "markdown",
   "metadata": {},
   "source": [
    "Link de estudo:\n",
    "\n",
    "* [Github: pysentimiento](https://github.com/pysentimiento/pysentimiento)\n",
    "\n",
    "* [pysentimiento: A Python Toolkit for Sentiment\n",
    "Analysis and SocialNLP tasks](https://arxiv.org/pdf/2106.09462.pdf)\n",
    "\n",
    "* [More Scraped Data, Greater Bias](https://www.deeplearning.ai/the-batch/research-shows-that-training-on-larger-datasets-can-increase-social-bias/?utm_campaign=The%20Batch&utm_content=267121221&utm_medium=social&utm_source=facebook&hss_channel=fbp-1027125564106325)\n",
    "\n",
    "\n",
    "* [ON HATE SCALING LAWS FOR DATA-SWAMPS](https://arxiv.org/pdf/2306.13141.pdf)"
   ]
  },
  {
   "cell_type": "markdown",
   "metadata": {},
   "source": [
    "> Neste Notebook estudamos a `biblioteca pysentimiento`, um `Toolkit Multilingual` para extração de opiniões e análises de Sentimentos `(centrado no Idioma Espanhol)`.\n",
    "\n",
    "`pysentimiento` é uma biblioteca que utiliza modelos pré-treinado de transformers para diferentes tarefas de SocialNLP.Usa como modelos bases a BETO: Spanish BERT e RoBERTuito em Espanhol, BERTweet em Inglês e outros modelos similares em Italiano e Português.\n",
    "\n"
   ]
  },
  {
   "cell_type": "code",
   "execution_count": null,
   "metadata": {},
   "outputs": [],
   "source": [
    "#%pip install pysentimiento"
   ]
  },
  {
   "cell_type": "markdown",
   "metadata": {},
   "source": [
    "Vamos `criar um analisador`. O `create_analyzer` recebe a tarefa e o idioma como parâmetros.\n",
    "\n"
   ]
  },
  {
   "cell_type": "code",
   "execution_count": 2,
   "metadata": {},
   "outputs": [
    {
     "name": "stderr",
     "output_type": "stream",
     "text": [
      "Downloading model.safetensors: 100%|██████████| 540M/540M [03:16<00:00, 2.74MB/s]\n",
      "Downloading (…)okenizer_config.json: 100%|██████████| 562/562 [00:00<00:00, 2.36MB/s]\n",
      "Downloading (…)solve/main/vocab.txt: 100%|██████████| 799k/799k [00:01<00:00, 462kB/s]\n",
      "Downloading (…)solve/main/bpe.codes: 100%|██████████| 1.04M/1.04M [00:03<00:00, 331kB/s]\n",
      "Downloading (…)in/added_tokens.json: 100%|██████████| 22.0/22.0 [00:00<00:00, 21.6kB/s]\n",
      "Downloading (…)cial_tokens_map.json: 100%|██████████| 167/167 [00:00<00:00, 388kB/s]\n"
     ]
    }
   ],
   "source": [
    "from pysentimiento import create_analyzer\n",
    "\n",
    "import transformers\n",
    "\n",
    "transformers.logging.set_verbosity(transformers.logging.ERROR)\n",
    "\n",
    "analyzer = create_analyzer(task=\"sentiment\", lang=\"pt\")"
   ]
  },
  {
   "cell_type": "markdown",
   "metadata": {},
   "source": [
    "`Vejamos alguns exemplos:`"
   ]
  },
  {
   "cell_type": "markdown",
   "metadata": {},
   "source": [
    "## **<font color=\"red\">Exemplo1</font>**"
   ]
  },
  {
   "cell_type": "code",
   "execution_count": 3,
   "metadata": {},
   "outputs": [
    {
     "data": {
      "text/plain": [
       "AnalyzerOutput(output=POS, probas={POS: 0.972, NEU: 0.021, NEG: 0.007})"
      ]
     },
     "execution_count": 3,
     "metadata": {},
     "output_type": "execute_result"
    }
   ],
   "source": [
    "exemplo1 = analyzer.predict(\"O Ronaldinho é muito bom como jogador!\")\n",
    "\n",
    "exemplo1"
   ]
  },
  {
   "cell_type": "code",
   "execution_count": 6,
   "metadata": {},
   "outputs": [
    {
     "name": "stdout",
     "output_type": "stream",
     "text": [
      "Rótulo: POS\n",
      "Probabilidade Positiva: 97.22%\n",
      "Probabilidade Neutra: 0.020972739905118942%\n",
      "Probabilidade Negativa: 0.006807348690927029%\n"
     ]
    }
   ],
   "source": [
    "# Obtendo a nossa saída 'exemplo1', de maneira mais explícita: \n",
    "output_label = exemplo1.output  # Obtemos o rótulo (POS, NEU, NEG)\n",
    "probabilities = exemplo1.probas  # Obtemos as probabilidades associadas\n",
    "\n",
    "# Probabilidades individuais para cada rótulo:\n",
    "positive_probability = probabilities.get(\"POS\", 0.0)\n",
    "neutral_probability = probabilities.get(\"NEU\", 0.0)\n",
    "negative_probability = probabilities.get(\"NEG\", 0.0)\n",
    "\n",
    "# Teríamos o seguinte:\n",
    "print(f\"Rótulo: {output_label}\")\n",
    "print(f\"Probabilidade Positiva: {round(positive_probability, 4)*100}%\")\n",
    "print(f\"Probabilidade Neutra: {neutral_probability}%\")\n",
    "print(f\"Probabilidade Negativa: {negative_probability}%\")"
   ]
  },
  {
   "cell_type": "markdown",
   "metadata": {},
   "source": [
    "## **<font color=\"red\">Exemplo 2</font>**"
   ]
  },
  {
   "cell_type": "code",
   "execution_count": 7,
   "metadata": {},
   "outputs": [
    {
     "data": {
      "text/plain": [
       "AnalyzerOutput(output=NEG, probas={NEG: 0.939, NEU: 0.056, POS: 0.005})"
      ]
     },
     "execution_count": 7,
     "metadata": {},
     "output_type": "execute_result"
    }
   ],
   "source": [
    "analyzer.predict(\"A tinta da minha caneta acabou, nossa!\")"
   ]
  },
  {
   "cell_type": "markdown",
   "metadata": {},
   "source": [
    "## **<font color=\"red\">Exemplo 3</font>**"
   ]
  },
  {
   "cell_type": "code",
   "execution_count": 8,
   "metadata": {},
   "outputs": [
    {
     "data": {
      "text/plain": [
       "AnalyzerOutput(output=NEU, probas={NEU: 0.931, NEG: 0.049, POS: 0.021})"
      ]
     },
     "execution_count": 8,
     "metadata": {},
     "output_type": "execute_result"
    }
   ],
   "source": [
    "analyzer.predict(\"Que dia é hoje?\")"
   ]
  },
  {
   "cell_type": "markdown",
   "metadata": {},
   "source": [
    "## **<font color=\"red\">Exemplo 4</font>**"
   ]
  },
  {
   "cell_type": "code",
   "execution_count": 9,
   "metadata": {},
   "outputs": [
    {
     "data": {
      "text/plain": [
       "AnalyzerOutput(output=NEG, probas={NEG: 0.955, NEU: 0.026, POS: 0.019})"
      ]
     },
     "execution_count": 9,
     "metadata": {},
     "output_type": "execute_result"
    }
   ],
   "source": [
    "analyzer.predict(\"Hoje Eu estou 😭\")"
   ]
  },
  {
   "cell_type": "markdown",
   "metadata": {},
   "source": [
    "# <font color=\"yellow\">Predição em batch</font>"
   ]
  },
  {
   "cell_type": "markdown",
   "metadata": {},
   "source": [
    "Se temos um conjunto de orações, `pysentimiento` faz a predição em conjunto e de maneira eficiente:"
   ]
  },
  {
   "cell_type": "code",
   "execution_count": 12,
   "metadata": {},
   "outputs": [
    {
     "name": "stderr",
     "output_type": "stream",
     "text": [
      "100%|██████████| 15/15 [00:01<00:00,  9.09it/s]"
     ]
    },
    {
     "name": "stdout",
     "output_type": "stream",
     "text": [
      "CPU times: user 3.06 s, sys: 0 ns, total: 3.06 s\n",
      "Wall time: 1.66 s\n"
     ]
    },
    {
     "name": "stderr",
     "output_type": "stream",
     "text": [
      "\n"
     ]
    }
   ],
   "source": [
    "%%time\n",
    "\n",
    "from tqdm.auto import tqdm\n",
    "\n",
    "oraciones = [\n",
    "    \"Amo ser Cientista de Dados\",\n",
    "    \"Ver tanta pobreza me dá tristeza.\",\n",
    "    \"O Sol está muito distante\",    \n",
    "] * 5\n",
    "\n",
    "for sent in tqdm(oraciones):\n",
    "    analyzer.predict(sent)"
   ]
  },
  {
   "cell_type": "code",
   "execution_count": 13,
   "metadata": {},
   "outputs": [
    {
     "name": "stderr",
     "output_type": "stream",
     "text": [
      "Map: 100%|██████████| 15/15 [00:01<00:00, 14.89 examples/s]\n"
     ]
    },
    {
     "name": "stdout",
     "output_type": "stream",
     "text": [
      "CPU times: user 4.71 s, sys: 846 ms, total: 5.55 s\n",
      "Wall time: 10.3 s\n"
     ]
    },
    {
     "data": {
      "text/plain": [
       "[AnalyzerOutput(output=POS, probas={POS: 0.989, NEU: 0.009, NEG: 0.002}),\n",
       " AnalyzerOutput(output=NEG, probas={NEG: 0.987, NEU: 0.007, POS: 0.006}),\n",
       " AnalyzerOutput(output=NEU, probas={NEU: 0.847, NEG: 0.139, POS: 0.014}),\n",
       " AnalyzerOutput(output=POS, probas={POS: 0.989, NEU: 0.009, NEG: 0.002}),\n",
       " AnalyzerOutput(output=NEG, probas={NEG: 0.987, NEU: 0.007, POS: 0.006}),\n",
       " AnalyzerOutput(output=NEU, probas={NEU: 0.847, NEG: 0.139, POS: 0.014}),\n",
       " AnalyzerOutput(output=POS, probas={POS: 0.989, NEU: 0.009, NEG: 0.002}),\n",
       " AnalyzerOutput(output=NEG, probas={NEG: 0.987, NEU: 0.007, POS: 0.006}),\n",
       " AnalyzerOutput(output=NEU, probas={NEU: 0.847, NEG: 0.139, POS: 0.014}),\n",
       " AnalyzerOutput(output=POS, probas={POS: 0.989, NEU: 0.009, NEG: 0.002}),\n",
       " AnalyzerOutput(output=NEG, probas={NEG: 0.987, NEU: 0.007, POS: 0.006}),\n",
       " AnalyzerOutput(output=NEU, probas={NEU: 0.847, NEG: 0.139, POS: 0.014}),\n",
       " AnalyzerOutput(output=POS, probas={POS: 0.989, NEU: 0.009, NEG: 0.002}),\n",
       " AnalyzerOutput(output=NEG, probas={NEG: 0.987, NEU: 0.007, POS: 0.006}),\n",
       " AnalyzerOutput(output=NEU, probas={NEU: 0.847, NEG: 0.139, POS: 0.014})]"
      ]
     },
     "execution_count": 13,
     "metadata": {},
     "output_type": "execute_result"
    }
   ],
   "source": [
    "%%time\n",
    "\n",
    "rets = analyzer.predict(oraciones)\n",
    "\n",
    "rets "
   ]
  },
  {
   "cell_type": "markdown",
   "metadata": {},
   "source": [
    "# <font color=\"yellow\">Emojis</font>"
   ]
  },
  {
   "cell_type": "markdown",
   "metadata": {},
   "source": [
    "Suporta, também, o uso de `emojis` através da Biblioteca [emoji](https://pypi.org/project/emoji/)."
   ]
  },
  {
   "cell_type": "code",
   "execution_count": 14,
   "metadata": {},
   "outputs": [
    {
     "data": {
      "text/plain": [
       "AnalyzerOutput(output=NEG, probas={NEG: 0.976, NEU: 0.016, POS: 0.008})"
      ]
     },
     "execution_count": 14,
     "metadata": {},
     "output_type": "execute_result"
    }
   ],
   "source": [
    "analyzer.predict(\"🤢\")"
   ]
  },
  {
   "cell_type": "code",
   "execution_count": 15,
   "metadata": {},
   "outputs": [
    {
     "data": {
      "text/plain": [
       "AnalyzerOutput(output=POS, probas={POS: 0.925, NEU: 0.069, NEG: 0.006})"
      ]
     },
     "execution_count": 15,
     "metadata": {},
     "output_type": "execute_result"
    }
   ],
   "source": [
    "analyzer.predict(\":)\")"
   ]
  },
  {
   "cell_type": "markdown",
   "metadata": {},
   "source": [
    "`Hashtags, também:`"
   ]
  },
  {
   "cell_type": "code",
   "execution_count": 16,
   "metadata": {},
   "outputs": [
    {
     "data": {
      "text/plain": [
       "AnalyzerOutput(output=NEG, probas={NEG: 0.992, POS: 0.004, NEU: 0.004})"
      ]
     },
     "execution_count": 16,
     "metadata": {},
     "output_type": "execute_result"
    }
   ],
   "source": [
    "analyzer.predict(\"#IstoéUmaMerda\")"
   ]
  },
  {
   "cell_type": "markdown",
   "metadata": {},
   "source": [
    "# <font color=\"yellow\">Análise Emocional</font>"
   ]
  },
  {
   "cell_type": "markdown",
   "metadata": {},
   "source": [
    "`pysentimiento` fornece análise Emocional por meio de modelos pré-treinados com conjuntos de dados [EmoEvent](https://github.com/fmplaza/EmoEvent)"
   ]
  },
  {
   "cell_type": "code",
   "execution_count": 17,
   "metadata": {},
   "outputs": [
    {
     "name": "stderr",
     "output_type": "stream",
     "text": [
      "Downloading (…)lve/main/config.json: 100%|██████████| 2.12k/2.12k [00:00<00:00, 64.0kB/s]\n",
      "Downloading pytorch_model.bin: 100%|██████████| 436M/436M [02:36<00:00, 2.79MB/s]\n",
      "Downloading (…)okenizer_config.json: 100%|██████████| 367/367 [00:00<00:00, 358kB/s]\n",
      "Downloading (…)solve/main/vocab.txt: 100%|██████████| 210k/210k [00:00<00:00, 1.20MB/s]\n",
      "Downloading (…)/main/tokenizer.json: 100%|██████████| 678k/678k [00:00<00:00, 2.91MB/s]\n",
      "Downloading (…)in/added_tokens.json: 100%|██████████| 61.0/61.0 [00:00<00:00, 60.4kB/s]\n",
      "Downloading (…)cial_tokens_map.json: 100%|██████████| 125/125 [00:00<00:00, 117kB/s]\n"
     ]
    }
   ],
   "source": [
    "# Instanciamos o Objeto:\n",
    "emotion_analyzer = create_analyzer(task=\"emotion\", lang=\"pt\")"
   ]
  },
  {
   "cell_type": "code",
   "execution_count": 18,
   "metadata": {},
   "outputs": [
    {
     "data": {
      "text/plain": [
       "AnalyzerOutput(output=['fear'], probas={admiration: 0.013, amusement: 0.002, anger: 0.009, annoyance: 0.013, approval: 0.006, caring: 0.005, confusion: 0.004, curiosity: 0.003, desire: 0.004, disappointment: 0.028, disapproval: 0.012, disgust: 0.160, embarrassment: 0.016, excitement: 0.002, fear: 0.890, gratitude: 0.005, grief: 0.008, joy: 0.001, love: 0.007, nervousness: 0.049, optimism: 0.006, pride: 0.002, realization: 0.005, relief: 0.001, remorse: 0.001, sadness: 0.074, surprise: 0.003, neutral: 0.009})"
      ]
     },
     "execution_count": 18,
     "metadata": {},
     "output_type": "execute_result"
    }
   ],
   "source": [
    "emotion_1 = emotion_analyzer.predict(\"Eu machuquei meu joelho jogando bola, isso é terrível!\")\n",
    "\n",
    "emotion_1"
   ]
  },
  {
   "cell_type": "code",
   "execution_count": 19,
   "metadata": {},
   "outputs": [
    {
     "data": {
      "text/plain": [
       "['fear']"
      ]
     },
     "execution_count": 19,
     "metadata": {},
     "output_type": "execute_result"
    }
   ],
   "source": [
    "# A Emoção é:\n",
    "emotion_1.output"
   ]
  },
  {
   "cell_type": "code",
   "execution_count": 20,
   "metadata": {},
   "outputs": [
    {
     "data": {
      "text/plain": [
       "{'admiration': 0.013477839529514313,\n",
       " 'amusement': 0.0018875550013035536,\n",
       " 'anger': 0.009365188889205456,\n",
       " 'annoyance': 0.013239799067378044,\n",
       " 'approval': 0.00569023285061121,\n",
       " 'caring': 0.005219749640673399,\n",
       " 'confusion': 0.004016146529465914,\n",
       " 'curiosity': 0.0025675150100141764,\n",
       " 'desire': 0.004219981841742992,\n",
       " 'disappointment': 0.028135400265455246,\n",
       " 'disapproval': 0.011510009877383709,\n",
       " 'disgust': 0.16009768843650818,\n",
       " 'embarrassment': 0.01590888574719429,\n",
       " 'excitement': 0.001899012946523726,\n",
       " 'fear': 0.8895401954650879,\n",
       " 'gratitude': 0.005402678158134222,\n",
       " 'grief': 0.008150695823132992,\n",
       " 'joy': 0.0013532412704080343,\n",
       " 'love': 0.006999167148023844,\n",
       " 'nervousness': 0.04916279762983322,\n",
       " 'optimism': 0.006161699071526527,\n",
       " 'pride': 0.0018651897553354502,\n",
       " 'realization': 0.005212029907852411,\n",
       " 'relief': 0.000912616727873683,\n",
       " 'remorse': 0.0012565108481794596,\n",
       " 'sadness': 0.0744243785738945,\n",
       " 'surprise': 0.0028698265086859465,\n",
       " 'neutral': 0.008908512070775032}"
      ]
     },
     "execution_count": 20,
     "metadata": {},
     "output_type": "execute_result"
    }
   ],
   "source": [
    "# Temos várias Emoções e só uma tem uma alta probabildiade:\n",
    "emotion_1.probas"
   ]
  },
  {
   "cell_type": "code",
   "execution_count": 21,
   "metadata": {},
   "outputs": [
    {
     "name": "stdout",
     "output_type": "stream",
     "text": [
      "A Emoção da nossa sentença é: fear com uma probabilidade de: 0.8895401954650879\n"
     ]
    }
   ],
   "source": [
    "name_of_emotion = max(emotion_1.probas, key=emotion_1.probas.get)\n",
    "\n",
    "value_of_emotion = emotion_1.probas[name_of_emotion]\n",
    "\n",
    "print(f\"A Emoção da nossa sentença é: {name_of_emotion} com uma probabilidade de: {value_of_emotion}\")"
   ]
  },
  {
   "cell_type": "code",
   "execution_count": 22,
   "metadata": {},
   "outputs": [
    {
     "data": {
      "text/plain": [
       "AnalyzerOutput(output=['surprise'], probas={admiration: 0.012, amusement: 0.007, anger: 0.005, annoyance: 0.010, approval: 0.002, caring: 0.001, confusion: 0.003, curiosity: 0.011, desire: 0.003, disappointment: 0.004, disapproval: 0.002, disgust: 0.001, embarrassment: 0.005, excitement: 0.143, fear: 0.002, gratitude: 0.003, grief: 0.002, joy: 0.006, love: 0.003, nervousness: 0.001, optimism: 0.002, pride: 0.002, realization: 0.031, relief: 0.003, remorse: 0.001, sadness: 0.002, surprise: 0.944, neutral: 0.034})"
      ]
     },
     "execution_count": 22,
     "metadata": {},
     "output_type": "execute_result"
    }
   ],
   "source": [
    "emotion_analyzer.predict(\"Oh meu Deus!\") # Em Inglês e: \"omg\""
   ]
  },
  {
   "cell_type": "code",
   "execution_count": 23,
   "metadata": {},
   "outputs": [
    {
     "data": {
      "text/plain": [
       "AnalyzerOutput(output=[], probas={admiration: 0.095, amusement: 0.261, anger: 0.016, annoyance: 0.016, approval: 0.005, caring: 0.001, confusion: 0.001, curiosity: 0.001, desire: 0.001, disappointment: 0.003, disapproval: 0.001, disgust: 0.001, embarrassment: 0.002, excitement: 0.089, fear: 0.000, gratitude: 0.003, grief: 0.001, joy: 0.168, love: 0.001, nervousness: 0.000, optimism: 0.001, pride: 0.006, realization: 0.014, relief: 0.004, remorse: 0.001, sadness: 0.001, surprise: 0.035, neutral: 0.231})"
      ]
     },
     "execution_count": 23,
     "metadata": {},
     "output_type": "execute_result"
    }
   ],
   "source": [
    "emotion_2 = emotion_analyzer.predict(\"Gol do Brasil!\")\n",
    "\n",
    "emotion_2"
   ]
  },
  {
   "cell_type": "code",
   "execution_count": null,
   "metadata": {},
   "outputs": [],
   "source": []
  }
 ],
 "metadata": {
  "kernelspec": {
   "display_name": "venv_pysent",
   "language": "python",
   "name": "python3"
  },
  "language_info": {
   "codemirror_mode": {
    "name": "ipython",
    "version": 3
   },
   "file_extension": ".py",
   "mimetype": "text/x-python",
   "name": "python",
   "nbconvert_exporter": "python",
   "pygments_lexer": "ipython3",
   "version": "3.10.12"
  }
 },
 "nbformat": 4,
 "nbformat_minor": 2
}
